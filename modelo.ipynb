{
 "cells": [
  {
   "cell_type": "markdown",
   "metadata": {},
   "source": [
    "# 200 Pozos petroleros nuevos"
   ]
  },
  {
   "cell_type": "markdown",
   "metadata": {},
   "source": [
    "## Descripción del proyecto"
   ]
  },
  {
   "cell_type": "markdown",
   "metadata": {},
   "source": [
    "Trabajas en la compañía de extracción de petróleo OilyGiant. Tu tarea es encontrar los mejores lugares donde abrir 200 pozos nuevos de petróleo.\n",
    "\n",
    "Condiciones:\n",
    "\n",
    "* Solo se debe usar la regresión lineal para el entrenamiento del modelo.\n",
    "* Al explorar la región, se lleva a cabo un estudio de 500 puntos con la selección de los mejores 200 puntos para el cálculo del beneficio.\n",
    "* El presupuesto para el desarrollo de 200 pozos petroleros es de 100 millones de dólares.\n",
    "* Un barril de materias primas genera 4.5 USD de ingresos. El ingreso de una unidad de producto es de 4500 dólares (el volumen de reservas está expresado en miles de barriles).\n",
    "* Después de la evaluación de riesgo, mantén solo las regiones con riesgo de pérdidas inferior al 2.5%. De las que se ajustan a los criterios, se debe seleccionar la región con el beneficio promedio más alto."
   ]
  },
  {
   "cell_type": "markdown",
   "metadata": {},
   "source": [
    "## 1. Preparación de los datos "
   ]
  },
  {
   "cell_type": "markdown",
   "metadata": {},
   "source": [
    "Se hace la importación de los datos y se mostrará la información preliminar usando `info()`"
   ]
  },
  {
   "cell_type": "code",
   "execution_count": 1,
   "metadata": {},
   "outputs": [],
   "source": [
    "# Importación de librerías\n",
    "import pandas as pd\n",
    "import numpy as np\n",
    "from sklearn.model_selection import train_test_split\n",
    "from sklearn.linear_model import LinearRegression\n",
    "from sklearn.metrics import mean_squared_error\n",
    "from sklearn.preprocessing import StandardScaler"
   ]
  },
  {
   "cell_type": "code",
   "execution_count": 2,
   "metadata": {},
   "outputs": [
    {
     "name": "stdout",
     "output_type": "stream",
     "text": [
      "<class 'pandas.core.frame.DataFrame'>\n",
      "RangeIndex: 100000 entries, 0 to 99999\n",
      "Data columns (total 5 columns):\n",
      " #   Column   Non-Null Count   Dtype  \n",
      "---  ------   --------------   -----  \n",
      " 0   id       100000 non-null  object \n",
      " 1   f0       100000 non-null  float64\n",
      " 2   f1       100000 non-null  float64\n",
      " 3   f2       100000 non-null  float64\n",
      " 4   product  100000 non-null  float64\n",
      "dtypes: float64(4), object(1)\n",
      "memory usage: 3.8+ MB\n",
      "\n",
      "<class 'pandas.core.frame.DataFrame'>\n",
      "RangeIndex: 100000 entries, 0 to 99999\n",
      "Data columns (total 5 columns):\n",
      " #   Column   Non-Null Count   Dtype  \n",
      "---  ------   --------------   -----  \n",
      " 0   id       100000 non-null  object \n",
      " 1   f0       100000 non-null  float64\n",
      " 2   f1       100000 non-null  float64\n",
      " 3   f2       100000 non-null  float64\n",
      " 4   product  100000 non-null  float64\n",
      "dtypes: float64(4), object(1)\n",
      "memory usage: 3.8+ MB\n",
      "\n",
      "<class 'pandas.core.frame.DataFrame'>\n",
      "RangeIndex: 100000 entries, 0 to 99999\n",
      "Data columns (total 5 columns):\n",
      " #   Column   Non-Null Count   Dtype  \n",
      "---  ------   --------------   -----  \n",
      " 0   id       100000 non-null  object \n",
      " 1   f0       100000 non-null  float64\n",
      " 2   f1       100000 non-null  float64\n",
      " 3   f2       100000 non-null  float64\n",
      " 4   product  100000 non-null  float64\n",
      "dtypes: float64(4), object(1)\n",
      "memory usage: 3.8+ MB\n"
     ]
    }
   ],
   "source": [
    "# Se cargan los datos\n",
    "data_1 = pd.read_csv('/datasets/geo_data_0.csv')\n",
    "data_2 = pd.read_csv('/datasets/geo_data_1.csv')\n",
    "data_3 = pd.read_csv('/datasets/geo_data_2.csv')\n",
    "\n",
    "# Se muestra la información de los tres datasets\n",
    "data_1.info()\n",
    "print()\n",
    "data_2.info()\n",
    "print()\n",
    "data_3.info()"
   ]
  },
  {
   "cell_type": "markdown",
   "metadata": {},
   "source": [
    "Se mostrarán las características estadísticas de los datasets para ver si los datos difieren mucho unos de otros y ver en un escalado de características es necesario"
   ]
  },
  {
   "cell_type": "code",
   "execution_count": 3,
   "metadata": {},
   "outputs": [
    {
     "name": "stdout",
     "output_type": "stream",
     "text": [
      "                  f0             f1             f2        product\n",
      "count  100000.000000  100000.000000  100000.000000  100000.000000\n",
      "mean        0.500419       0.250143       2.502647      92.500000\n",
      "std         0.871832       0.504433       3.248248      44.288691\n",
      "min        -1.408605      -0.848218     -12.088328       0.000000\n",
      "25%        -0.072580      -0.200881       0.287748      56.497507\n",
      "50%         0.502360       0.250252       2.515969      91.849972\n",
      "75%         1.073581       0.700646       4.715088     128.564089\n",
      "max         2.362331       1.343769      16.003790     185.364347\n",
      "\n",
      "                  f0             f1             f2        product\n",
      "count  100000.000000  100000.000000  100000.000000  100000.000000\n",
      "mean        1.141296      -4.796579       2.494541      68.825000\n",
      "std         8.965932       5.119872       1.703572      45.944423\n",
      "min       -31.609576     -26.358598      -0.018144       0.000000\n",
      "25%        -6.298551      -8.267985       1.000021      26.953261\n",
      "50%         1.153055      -4.813172       2.011479      57.085625\n",
      "75%         8.621015      -1.332816       3.999904     107.813044\n",
      "max        29.421755      18.734063       5.019721     137.945408\n",
      "\n",
      "                  f0             f1             f2        product\n",
      "count  100000.000000  100000.000000  100000.000000  100000.000000\n",
      "mean        0.002023      -0.002081       2.495128      95.000000\n",
      "std         1.732045       1.730417       3.473445      44.749921\n",
      "min        -8.760004      -7.084020     -11.970335       0.000000\n",
      "25%        -1.162288      -1.174820       0.130359      59.450441\n",
      "50%         0.009424      -0.009482       2.484236      94.925613\n",
      "75%         1.158535       1.163678       4.858794     130.595027\n",
      "max         7.238262       7.844801      16.739402     190.029838\n"
     ]
    }
   ],
   "source": [
    "# Caracterísitcas estadísticas\n",
    "print(data_1.describe())\n",
    "print()\n",
    "print(data_2.describe())\n",
    "print()\n",
    "print(data_3.describe())"
   ]
  },
  {
   "cell_type": "markdown",
   "metadata": {},
   "source": [
    "Se imprimiran 3 muestras de cada dataset para corroborar que los tipos de datos sean correctos"
   ]
  },
  {
   "cell_type": "code",
   "execution_count": 4,
   "metadata": {},
   "outputs": [
    {
     "data": {
      "text/html": [
       "<div>\n",
       "<style scoped>\n",
       "    .dataframe tbody tr th:only-of-type {\n",
       "        vertical-align: middle;\n",
       "    }\n",
       "\n",
       "    .dataframe tbody tr th {\n",
       "        vertical-align: top;\n",
       "    }\n",
       "\n",
       "    .dataframe thead th {\n",
       "        text-align: right;\n",
       "    }\n",
       "</style>\n",
       "<table border=\"1\" class=\"dataframe\">\n",
       "  <thead>\n",
       "    <tr style=\"text-align: right;\">\n",
       "      <th></th>\n",
       "      <th>id</th>\n",
       "      <th>f0</th>\n",
       "      <th>f1</th>\n",
       "      <th>f2</th>\n",
       "      <th>product</th>\n",
       "    </tr>\n",
       "  </thead>\n",
       "  <tbody>\n",
       "    <tr>\n",
       "      <th>0</th>\n",
       "      <td>txEyH</td>\n",
       "      <td>0.705745</td>\n",
       "      <td>-0.497823</td>\n",
       "      <td>1.221170</td>\n",
       "      <td>105.280062</td>\n",
       "    </tr>\n",
       "    <tr>\n",
       "      <th>1</th>\n",
       "      <td>2acmU</td>\n",
       "      <td>1.334711</td>\n",
       "      <td>-0.340164</td>\n",
       "      <td>4.365080</td>\n",
       "      <td>73.037750</td>\n",
       "    </tr>\n",
       "    <tr>\n",
       "      <th>2</th>\n",
       "      <td>409Wp</td>\n",
       "      <td>1.022732</td>\n",
       "      <td>0.151990</td>\n",
       "      <td>1.419926</td>\n",
       "      <td>85.265647</td>\n",
       "    </tr>\n",
       "  </tbody>\n",
       "</table>\n",
       "</div>"
      ],
      "text/plain": [
       "      id        f0        f1        f2     product\n",
       "0  txEyH  0.705745 -0.497823  1.221170  105.280062\n",
       "1  2acmU  1.334711 -0.340164  4.365080   73.037750\n",
       "2  409Wp  1.022732  0.151990  1.419926   85.265647"
      ]
     },
     "metadata": {},
     "output_type": "display_data"
    },
    {
     "name": "stdout",
     "output_type": "stream",
     "text": [
      "\n"
     ]
    },
    {
     "data": {
      "text/html": [
       "<div>\n",
       "<style scoped>\n",
       "    .dataframe tbody tr th:only-of-type {\n",
       "        vertical-align: middle;\n",
       "    }\n",
       "\n",
       "    .dataframe tbody tr th {\n",
       "        vertical-align: top;\n",
       "    }\n",
       "\n",
       "    .dataframe thead th {\n",
       "        text-align: right;\n",
       "    }\n",
       "</style>\n",
       "<table border=\"1\" class=\"dataframe\">\n",
       "  <thead>\n",
       "    <tr style=\"text-align: right;\">\n",
       "      <th></th>\n",
       "      <th>id</th>\n",
       "      <th>f0</th>\n",
       "      <th>f1</th>\n",
       "      <th>f2</th>\n",
       "      <th>product</th>\n",
       "    </tr>\n",
       "  </thead>\n",
       "  <tbody>\n",
       "    <tr>\n",
       "      <th>0</th>\n",
       "      <td>kBEdx</td>\n",
       "      <td>-15.001348</td>\n",
       "      <td>-8.276000</td>\n",
       "      <td>-0.005876</td>\n",
       "      <td>3.179103</td>\n",
       "    </tr>\n",
       "    <tr>\n",
       "      <th>1</th>\n",
       "      <td>62mP7</td>\n",
       "      <td>14.272088</td>\n",
       "      <td>-3.475083</td>\n",
       "      <td>0.999183</td>\n",
       "      <td>26.953261</td>\n",
       "    </tr>\n",
       "    <tr>\n",
       "      <th>2</th>\n",
       "      <td>vyE1P</td>\n",
       "      <td>6.263187</td>\n",
       "      <td>-5.948386</td>\n",
       "      <td>5.001160</td>\n",
       "      <td>134.766305</td>\n",
       "    </tr>\n",
       "  </tbody>\n",
       "</table>\n",
       "</div>"
      ],
      "text/plain": [
       "      id         f0        f1        f2     product\n",
       "0  kBEdx -15.001348 -8.276000 -0.005876    3.179103\n",
       "1  62mP7  14.272088 -3.475083  0.999183   26.953261\n",
       "2  vyE1P   6.263187 -5.948386  5.001160  134.766305"
      ]
     },
     "metadata": {},
     "output_type": "display_data"
    },
    {
     "name": "stdout",
     "output_type": "stream",
     "text": [
      "\n"
     ]
    },
    {
     "data": {
      "text/html": [
       "<div>\n",
       "<style scoped>\n",
       "    .dataframe tbody tr th:only-of-type {\n",
       "        vertical-align: middle;\n",
       "    }\n",
       "\n",
       "    .dataframe tbody tr th {\n",
       "        vertical-align: top;\n",
       "    }\n",
       "\n",
       "    .dataframe thead th {\n",
       "        text-align: right;\n",
       "    }\n",
       "</style>\n",
       "<table border=\"1\" class=\"dataframe\">\n",
       "  <thead>\n",
       "    <tr style=\"text-align: right;\">\n",
       "      <th></th>\n",
       "      <th>id</th>\n",
       "      <th>f0</th>\n",
       "      <th>f1</th>\n",
       "      <th>f2</th>\n",
       "      <th>product</th>\n",
       "    </tr>\n",
       "  </thead>\n",
       "  <tbody>\n",
       "    <tr>\n",
       "      <th>0</th>\n",
       "      <td>fwXo0</td>\n",
       "      <td>-1.146987</td>\n",
       "      <td>0.963328</td>\n",
       "      <td>-0.828965</td>\n",
       "      <td>27.758673</td>\n",
       "    </tr>\n",
       "    <tr>\n",
       "      <th>1</th>\n",
       "      <td>WJtFt</td>\n",
       "      <td>0.262778</td>\n",
       "      <td>0.269839</td>\n",
       "      <td>-2.530187</td>\n",
       "      <td>56.069697</td>\n",
       "    </tr>\n",
       "    <tr>\n",
       "      <th>2</th>\n",
       "      <td>ovLUW</td>\n",
       "      <td>0.194587</td>\n",
       "      <td>0.289035</td>\n",
       "      <td>-5.586433</td>\n",
       "      <td>62.871910</td>\n",
       "    </tr>\n",
       "  </tbody>\n",
       "</table>\n",
       "</div>"
      ],
      "text/plain": [
       "      id        f0        f1        f2    product\n",
       "0  fwXo0 -1.146987  0.963328 -0.828965  27.758673\n",
       "1  WJtFt  0.262778  0.269839 -2.530187  56.069697\n",
       "2  ovLUW  0.194587  0.289035 -5.586433  62.871910"
      ]
     },
     "metadata": {},
     "output_type": "display_data"
    },
    {
     "name": "stdout",
     "output_type": "stream",
     "text": [
      "\n"
     ]
    }
   ],
   "source": [
    "display(data_1.head(3))\n",
    "print()\n",
    "display(data_2.head(3))\n",
    "print()\n",
    "display(data_3.head(3))\n",
    "print()"
   ]
  },
  {
   "cell_type": "markdown",
   "metadata": {},
   "source": [
    "Conclusiones:\n",
    "\n",
    "* No hay valores ausentes y podemos observar que los 3 datasets contienen 100000 líneas cada uno y 5 columnas. Los tipos de datos son correctos.\n",
    "* Es necesario un escalado de características porque los datos difieren mucho unos de otros.\n",
    "* Nuestro target es la columna `product` porque es la columna que contiene el volumen de reservas en el pozo (miles de barriles)\n",
    "* Se borrará la columna `id` de los datasets para entrenar el modelo. Se toma esta descición porque el id de cada pozo no afecta para predecir si el pozo es redituable, sólo es un identificador."
   ]
  },
  {
   "cell_type": "markdown",
   "metadata": {},
   "source": [
    "Se borra la columna `id`"
   ]
  },
  {
   "cell_type": "code",
   "execution_count": 5,
   "metadata": {},
   "outputs": [
    {
     "data": {
      "text/html": [
       "<div>\n",
       "<style scoped>\n",
       "    .dataframe tbody tr th:only-of-type {\n",
       "        vertical-align: middle;\n",
       "    }\n",
       "\n",
       "    .dataframe tbody tr th {\n",
       "        vertical-align: top;\n",
       "    }\n",
       "\n",
       "    .dataframe thead th {\n",
       "        text-align: right;\n",
       "    }\n",
       "</style>\n",
       "<table border=\"1\" class=\"dataframe\">\n",
       "  <thead>\n",
       "    <tr style=\"text-align: right;\">\n",
       "      <th></th>\n",
       "      <th>f0</th>\n",
       "      <th>f1</th>\n",
       "      <th>f2</th>\n",
       "      <th>product</th>\n",
       "    </tr>\n",
       "  </thead>\n",
       "  <tbody>\n",
       "    <tr>\n",
       "      <th>0</th>\n",
       "      <td>0.705745</td>\n",
       "      <td>-0.497823</td>\n",
       "      <td>1.221170</td>\n",
       "      <td>105.280062</td>\n",
       "    </tr>\n",
       "    <tr>\n",
       "      <th>1</th>\n",
       "      <td>1.334711</td>\n",
       "      <td>-0.340164</td>\n",
       "      <td>4.365080</td>\n",
       "      <td>73.037750</td>\n",
       "    </tr>\n",
       "    <tr>\n",
       "      <th>2</th>\n",
       "      <td>1.022732</td>\n",
       "      <td>0.151990</td>\n",
       "      <td>1.419926</td>\n",
       "      <td>85.265647</td>\n",
       "    </tr>\n",
       "    <tr>\n",
       "      <th>3</th>\n",
       "      <td>-0.032172</td>\n",
       "      <td>0.139033</td>\n",
       "      <td>2.978566</td>\n",
       "      <td>168.620776</td>\n",
       "    </tr>\n",
       "    <tr>\n",
       "      <th>4</th>\n",
       "      <td>1.988431</td>\n",
       "      <td>0.155413</td>\n",
       "      <td>4.751769</td>\n",
       "      <td>154.036647</td>\n",
       "    </tr>\n",
       "  </tbody>\n",
       "</table>\n",
       "</div>"
      ],
      "text/plain": [
       "         f0        f1        f2     product\n",
       "0  0.705745 -0.497823  1.221170  105.280062\n",
       "1  1.334711 -0.340164  4.365080   73.037750\n",
       "2  1.022732  0.151990  1.419926   85.265647\n",
       "3 -0.032172  0.139033  2.978566  168.620776\n",
       "4  1.988431  0.155413  4.751769  154.036647"
      ]
     },
     "metadata": {},
     "output_type": "display_data"
    },
    {
     "data": {
      "text/html": [
       "<div>\n",
       "<style scoped>\n",
       "    .dataframe tbody tr th:only-of-type {\n",
       "        vertical-align: middle;\n",
       "    }\n",
       "\n",
       "    .dataframe tbody tr th {\n",
       "        vertical-align: top;\n",
       "    }\n",
       "\n",
       "    .dataframe thead th {\n",
       "        text-align: right;\n",
       "    }\n",
       "</style>\n",
       "<table border=\"1\" class=\"dataframe\">\n",
       "  <thead>\n",
       "    <tr style=\"text-align: right;\">\n",
       "      <th></th>\n",
       "      <th>f0</th>\n",
       "      <th>f1</th>\n",
       "      <th>f2</th>\n",
       "      <th>product</th>\n",
       "    </tr>\n",
       "  </thead>\n",
       "  <tbody>\n",
       "    <tr>\n",
       "      <th>0</th>\n",
       "      <td>-15.001348</td>\n",
       "      <td>-8.276000</td>\n",
       "      <td>-0.005876</td>\n",
       "      <td>3.179103</td>\n",
       "    </tr>\n",
       "    <tr>\n",
       "      <th>1</th>\n",
       "      <td>14.272088</td>\n",
       "      <td>-3.475083</td>\n",
       "      <td>0.999183</td>\n",
       "      <td>26.953261</td>\n",
       "    </tr>\n",
       "    <tr>\n",
       "      <th>2</th>\n",
       "      <td>6.263187</td>\n",
       "      <td>-5.948386</td>\n",
       "      <td>5.001160</td>\n",
       "      <td>134.766305</td>\n",
       "    </tr>\n",
       "    <tr>\n",
       "      <th>3</th>\n",
       "      <td>-13.081196</td>\n",
       "      <td>-11.506057</td>\n",
       "      <td>4.999415</td>\n",
       "      <td>137.945408</td>\n",
       "    </tr>\n",
       "    <tr>\n",
       "      <th>4</th>\n",
       "      <td>12.702195</td>\n",
       "      <td>-8.147433</td>\n",
       "      <td>5.004363</td>\n",
       "      <td>134.766305</td>\n",
       "    </tr>\n",
       "  </tbody>\n",
       "</table>\n",
       "</div>"
      ],
      "text/plain": [
       "          f0         f1        f2     product\n",
       "0 -15.001348  -8.276000 -0.005876    3.179103\n",
       "1  14.272088  -3.475083  0.999183   26.953261\n",
       "2   6.263187  -5.948386  5.001160  134.766305\n",
       "3 -13.081196 -11.506057  4.999415  137.945408\n",
       "4  12.702195  -8.147433  5.004363  134.766305"
      ]
     },
     "metadata": {},
     "output_type": "display_data"
    },
    {
     "data": {
      "text/html": [
       "<div>\n",
       "<style scoped>\n",
       "    .dataframe tbody tr th:only-of-type {\n",
       "        vertical-align: middle;\n",
       "    }\n",
       "\n",
       "    .dataframe tbody tr th {\n",
       "        vertical-align: top;\n",
       "    }\n",
       "\n",
       "    .dataframe thead th {\n",
       "        text-align: right;\n",
       "    }\n",
       "</style>\n",
       "<table border=\"1\" class=\"dataframe\">\n",
       "  <thead>\n",
       "    <tr style=\"text-align: right;\">\n",
       "      <th></th>\n",
       "      <th>f0</th>\n",
       "      <th>f1</th>\n",
       "      <th>f2</th>\n",
       "      <th>product</th>\n",
       "    </tr>\n",
       "  </thead>\n",
       "  <tbody>\n",
       "    <tr>\n",
       "      <th>0</th>\n",
       "      <td>-1.146987</td>\n",
       "      <td>0.963328</td>\n",
       "      <td>-0.828965</td>\n",
       "      <td>27.758673</td>\n",
       "    </tr>\n",
       "    <tr>\n",
       "      <th>1</th>\n",
       "      <td>0.262778</td>\n",
       "      <td>0.269839</td>\n",
       "      <td>-2.530187</td>\n",
       "      <td>56.069697</td>\n",
       "    </tr>\n",
       "    <tr>\n",
       "      <th>2</th>\n",
       "      <td>0.194587</td>\n",
       "      <td>0.289035</td>\n",
       "      <td>-5.586433</td>\n",
       "      <td>62.871910</td>\n",
       "    </tr>\n",
       "    <tr>\n",
       "      <th>3</th>\n",
       "      <td>2.236060</td>\n",
       "      <td>-0.553760</td>\n",
       "      <td>0.930038</td>\n",
       "      <td>114.572842</td>\n",
       "    </tr>\n",
       "    <tr>\n",
       "      <th>4</th>\n",
       "      <td>-0.515993</td>\n",
       "      <td>1.716266</td>\n",
       "      <td>5.899011</td>\n",
       "      <td>149.600746</td>\n",
       "    </tr>\n",
       "  </tbody>\n",
       "</table>\n",
       "</div>"
      ],
      "text/plain": [
       "         f0        f1        f2     product\n",
       "0 -1.146987  0.963328 -0.828965   27.758673\n",
       "1  0.262778  0.269839 -2.530187   56.069697\n",
       "2  0.194587  0.289035 -5.586433   62.871910\n",
       "3  2.236060 -0.553760  0.930038  114.572842\n",
       "4 -0.515993  1.716266  5.899011  149.600746"
      ]
     },
     "metadata": {},
     "output_type": "display_data"
    }
   ],
   "source": [
    "data_1 = data_1.drop(['id'], axis=1)\n",
    "data_2 = data_2.drop(['id'], axis=1)\n",
    "data_3 = data_3.drop(['id'], axis=1)\n",
    "\n",
    "# Verificación de que ya no existe la columna id\n",
    "display(data_1.head(5))\n",
    "display(data_2.head(5))\n",
    "display(data_3.head(5))"
   ]
  },
  {
   "cell_type": "markdown",
   "metadata": {},
   "source": [
    "Escalado de datos, la columna `product` no se va a escalar porque es la variable objetivo"
   ]
  },
  {
   "cell_type": "markdown",
   "metadata": {},
   "source": [
    "## 2. Entrenamiento del modelo de regresión lineal"
   ]
  },
  {
   "cell_type": "markdown",
   "metadata": {},
   "source": [
    "Para el entrenamiento del modelo, se creara una función que se encargará de realizar dicho entrenamiento, así se podrá llamar para cada dataset que se tiene y se evitará escribirlo para cada uno, haciendolo más eficiente"
   ]
  },
  {
   "cell_type": "markdown",
   "metadata": {},
   "source": [
    "Antes de la función de entrenamiento, se hará una función diferente para la divisón del conjunto `features` (características) y el conjunto `target` (objetivo) en una proporción de 75:25. De igual manera en dicha función se realizará el escalado de los datos.\n",
    "\n",
    "Esta función va a devolver `features_train`, `features_valid`, `target_train`, `target_valid`."
   ]
  },
  {
   "cell_type": "code",
   "execution_count": 6,
   "metadata": {},
   "outputs": [],
   "source": [
    "def split_data(data):\n",
    "    # Separa los conjuntos de entrenamiento y validacion\n",
    "    features = data.drop(['product'], axis=1)\n",
    "    target = data['product']\n",
    "    \n",
    "    # Separa los conjuntos de features_train, features_valid, target_train, target_valid\n",
    "    features_train, features_valid, target_train, target_valid = train_test_split(features, target, test_size=0.25, random_state=12345)\n",
    "    \n",
    "    # Columnas que se van a escalar\n",
    "    numeric = ['f0', 'f1', 'f2']\n",
    "    # Escalado de las características\n",
    "    scaler = StandardScaler()\n",
    "    scaler.fit(features_train[numeric])\n",
    "    features_train[numeric] = scaler.transform(features_train[numeric])\n",
    "    features_valid[numeric] = scaler.transform(features_valid[numeric])\n",
    "    \n",
    "    return features_train, features_valid, target_train, target_valid"
   ]
  },
  {
   "cell_type": "code",
   "execution_count": 7,
   "metadata": {
    "scrolled": true
   },
   "outputs": [
    {
     "name": "stderr",
     "output_type": "stream",
     "text": [
      "/tmp/ipykernel_71/591743370.py:14: SettingWithCopyWarning: \n",
      "A value is trying to be set on a copy of a slice from a DataFrame.\n",
      "Try using .loc[row_indexer,col_indexer] = value instead\n",
      "\n",
      "See the caveats in the documentation: https://pandas.pydata.org/pandas-docs/stable/user_guide/indexing.html#returning-a-view-versus-a-copy\n",
      "  features_train[numeric] = scaler.transform(features_train[numeric])\n",
      "/opt/conda/lib/python3.9/site-packages/pandas/core/indexing.py:1637: SettingWithCopyWarning: \n",
      "A value is trying to be set on a copy of a slice from a DataFrame\n",
      "\n",
      "See the caveats in the documentation: https://pandas.pydata.org/pandas-docs/stable/user_guide/indexing.html#returning-a-view-versus-a-copy\n",
      "  self._setitem_single_block(indexer, value, name)\n",
      "/opt/conda/lib/python3.9/site-packages/pandas/core/indexing.py:692: SettingWithCopyWarning: \n",
      "A value is trying to be set on a copy of a slice from a DataFrame\n",
      "\n",
      "See the caveats in the documentation: https://pandas.pydata.org/pandas-docs/stable/user_guide/indexing.html#returning-a-view-versus-a-copy\n",
      "  iloc._setitem_with_indexer(indexer, value, self.name)\n",
      "/tmp/ipykernel_71/591743370.py:15: SettingWithCopyWarning: \n",
      "A value is trying to be set on a copy of a slice from a DataFrame.\n",
      "Try using .loc[row_indexer,col_indexer] = value instead\n",
      "\n",
      "See the caveats in the documentation: https://pandas.pydata.org/pandas-docs/stable/user_guide/indexing.html#returning-a-view-versus-a-copy\n",
      "  features_valid[numeric] = scaler.transform(features_valid[numeric])\n",
      "/opt/conda/lib/python3.9/site-packages/pandas/core/indexing.py:1637: SettingWithCopyWarning: \n",
      "A value is trying to be set on a copy of a slice from a DataFrame\n",
      "\n",
      "See the caveats in the documentation: https://pandas.pydata.org/pandas-docs/stable/user_guide/indexing.html#returning-a-view-versus-a-copy\n",
      "  self._setitem_single_block(indexer, value, name)\n",
      "/opt/conda/lib/python3.9/site-packages/pandas/core/indexing.py:692: SettingWithCopyWarning: \n",
      "A value is trying to be set on a copy of a slice from a DataFrame\n",
      "\n",
      "See the caveats in the documentation: https://pandas.pydata.org/pandas-docs/stable/user_guide/indexing.html#returning-a-view-versus-a-copy\n",
      "  iloc._setitem_with_indexer(indexer, value, self.name)\n",
      "/tmp/ipykernel_71/591743370.py:14: SettingWithCopyWarning: \n",
      "A value is trying to be set on a copy of a slice from a DataFrame.\n",
      "Try using .loc[row_indexer,col_indexer] = value instead\n",
      "\n",
      "See the caveats in the documentation: https://pandas.pydata.org/pandas-docs/stable/user_guide/indexing.html#returning-a-view-versus-a-copy\n",
      "  features_train[numeric] = scaler.transform(features_train[numeric])\n",
      "/opt/conda/lib/python3.9/site-packages/pandas/core/indexing.py:1637: SettingWithCopyWarning: \n",
      "A value is trying to be set on a copy of a slice from a DataFrame\n",
      "\n",
      "See the caveats in the documentation: https://pandas.pydata.org/pandas-docs/stable/user_guide/indexing.html#returning-a-view-versus-a-copy\n",
      "  self._setitem_single_block(indexer, value, name)\n",
      "/opt/conda/lib/python3.9/site-packages/pandas/core/indexing.py:692: SettingWithCopyWarning: \n",
      "A value is trying to be set on a copy of a slice from a DataFrame\n",
      "\n",
      "See the caveats in the documentation: https://pandas.pydata.org/pandas-docs/stable/user_guide/indexing.html#returning-a-view-versus-a-copy\n",
      "  iloc._setitem_with_indexer(indexer, value, self.name)\n",
      "/tmp/ipykernel_71/591743370.py:15: SettingWithCopyWarning: \n",
      "A value is trying to be set on a copy of a slice from a DataFrame.\n",
      "Try using .loc[row_indexer,col_indexer] = value instead\n",
      "\n",
      "See the caveats in the documentation: https://pandas.pydata.org/pandas-docs/stable/user_guide/indexing.html#returning-a-view-versus-a-copy\n",
      "  features_valid[numeric] = scaler.transform(features_valid[numeric])\n",
      "/opt/conda/lib/python3.9/site-packages/pandas/core/indexing.py:1637: SettingWithCopyWarning: \n",
      "A value is trying to be set on a copy of a slice from a DataFrame\n",
      "\n",
      "See the caveats in the documentation: https://pandas.pydata.org/pandas-docs/stable/user_guide/indexing.html#returning-a-view-versus-a-copy\n",
      "  self._setitem_single_block(indexer, value, name)\n",
      "/opt/conda/lib/python3.9/site-packages/pandas/core/indexing.py:692: SettingWithCopyWarning: \n",
      "A value is trying to be set on a copy of a slice from a DataFrame\n",
      "\n",
      "See the caveats in the documentation: https://pandas.pydata.org/pandas-docs/stable/user_guide/indexing.html#returning-a-view-versus-a-copy\n",
      "  iloc._setitem_with_indexer(indexer, value, self.name)\n",
      "/tmp/ipykernel_71/591743370.py:14: SettingWithCopyWarning: \n",
      "A value is trying to be set on a copy of a slice from a DataFrame.\n",
      "Try using .loc[row_indexer,col_indexer] = value instead\n",
      "\n",
      "See the caveats in the documentation: https://pandas.pydata.org/pandas-docs/stable/user_guide/indexing.html#returning-a-view-versus-a-copy\n",
      "  features_train[numeric] = scaler.transform(features_train[numeric])\n",
      "/opt/conda/lib/python3.9/site-packages/pandas/core/indexing.py:1637: SettingWithCopyWarning: \n",
      "A value is trying to be set on a copy of a slice from a DataFrame\n",
      "\n",
      "See the caveats in the documentation: https://pandas.pydata.org/pandas-docs/stable/user_guide/indexing.html#returning-a-view-versus-a-copy\n",
      "  self._setitem_single_block(indexer, value, name)\n",
      "/opt/conda/lib/python3.9/site-packages/pandas/core/indexing.py:692: SettingWithCopyWarning: \n",
      "A value is trying to be set on a copy of a slice from a DataFrame\n",
      "\n",
      "See the caveats in the documentation: https://pandas.pydata.org/pandas-docs/stable/user_guide/indexing.html#returning-a-view-versus-a-copy\n",
      "  iloc._setitem_with_indexer(indexer, value, self.name)\n",
      "/tmp/ipykernel_71/591743370.py:15: SettingWithCopyWarning: \n",
      "A value is trying to be set on a copy of a slice from a DataFrame.\n",
      "Try using .loc[row_indexer,col_indexer] = value instead\n",
      "\n",
      "See the caveats in the documentation: https://pandas.pydata.org/pandas-docs/stable/user_guide/indexing.html#returning-a-view-versus-a-copy\n",
      "  features_valid[numeric] = scaler.transform(features_valid[numeric])\n",
      "/opt/conda/lib/python3.9/site-packages/pandas/core/indexing.py:1637: SettingWithCopyWarning: \n",
      "A value is trying to be set on a copy of a slice from a DataFrame\n",
      "\n",
      "See the caveats in the documentation: https://pandas.pydata.org/pandas-docs/stable/user_guide/indexing.html#returning-a-view-versus-a-copy\n",
      "  self._setitem_single_block(indexer, value, name)\n",
      "/opt/conda/lib/python3.9/site-packages/pandas/core/indexing.py:692: SettingWithCopyWarning: \n",
      "A value is trying to be set on a copy of a slice from a DataFrame\n",
      "\n",
      "See the caveats in the documentation: https://pandas.pydata.org/pandas-docs/stable/user_guide/indexing.html#returning-a-view-versus-a-copy\n",
      "  iloc._setitem_with_indexer(indexer, value, self.name)\n"
     ]
    }
   ],
   "source": [
    "# Llamada a la función para cada dataset\n",
    "features_train_1, features_valid_1, target_train_1, target_valid_1 = split_data(data_1)\n",
    "features_train_2, features_valid_2, target_train_2, target_valid_2 = split_data(data_2)\n",
    "features_train_3, features_valid_3, target_train_3, target_valid_3 = split_data(data_3)"
   ]
  },
  {
   "cell_type": "markdown",
   "metadata": {},
   "source": [
    "Ahora se va a crear la función para entrenar el modelo, la cual devuelve las predicciones (`predicted_valid`) y las respuestas correctas (`target_valid`) del conjunto de validación. Las predicciones serán cnvertidads a un objeto `Series` por comodidad al manejar las predicciones."
   ]
  },
  {
   "cell_type": "code",
   "execution_count": 8,
   "metadata": {},
   "outputs": [],
   "source": [
    "# Función para entrenar los datasets con el modelo\n",
    "def train_linear_model(features_train, features_valid, target_train, target_valid):\n",
    "    model = LinearRegression()\n",
    "    model.fit(features_train, target_train)\n",
    "    predicted_valid = model.predict(features_valid)\n",
    "    predicted_valid = pd.Series(predicted_valid)\n",
    "    return target_valid, predicted_valid"
   ]
  },
  {
   "cell_type": "code",
   "execution_count": 9,
   "metadata": {},
   "outputs": [],
   "source": [
    "# Llamada a la función, guardando predicted_value y target en variables\n",
    "target_valid_1, predicted_valid_1 = train_linear_model(features_train_1, features_valid_1, target_train_1, target_valid_1)\n",
    "target_valid_2, predicted_valid_2 = train_linear_model(features_train_2, features_valid_2, target_train_2, target_valid_2)\n",
    "target_valid_3, predicted_valid_3 = train_linear_model(features_train_3, features_valid_3, target_train_3, target_valid_3)"
   ]
  },
  {
   "cell_type": "markdown",
   "metadata": {},
   "source": [
    "Para asegurarnos que los targets y las predicciones tengan los mismos índices, aplicamos el método `reset_index()` para que los índices comiencen a partir de 0 y sean consecutivos, también colocamos el argumento `drop=True` para asegurarnos de borrar el primer índice"
   ]
  },
  {
   "cell_type": "code",
   "execution_count": 10,
   "metadata": {},
   "outputs": [],
   "source": [
    "# reinicia los índices de los targets\n",
    "target_valid_1 = target_valid_1.reset_index(drop=True)\n",
    "target_valid_2 = target_valid_2.reset_index(drop=True)\n",
    "target_valid_3 = target_valid_3.reset_index(drop=True)\n",
    "\n",
    "# reinicia los índices de las predicciones\n",
    "predicted_valid_1 = predicted_valid_1.reset_index(drop=True)\n",
    "predicted_valid_2 = predicted_valid_2.reset_index(drop=True)\n",
    "predicted_valid_3 = predicted_valid_3.reset_index(drop=True)"
   ]
  },
  {
   "cell_type": "markdown",
   "metadata": {},
   "source": [
    "### 2.1. Volumen medio predicho y RMSE"
   ]
  },
  {
   "cell_type": "markdown",
   "metadata": {},
   "source": [
    "Se va a calculas el volumen medio predicho y el RMSE del modelo para poder hacer un análisis de resultados del modelo y ver la calidad del modelo.\n",
    "\n",
    "Para esto se creará una función que tomará como argumentos los valores correctos y las predicciones para cada data set que se realizaron en el punto anterior. Para calcular el RMSE se hará uso de la función `mean_squared_error`."
   ]
  },
  {
   "cell_type": "code",
   "execution_count": 11,
   "metadata": {},
   "outputs": [],
   "source": [
    "# Función para calcular el rmse y el volumen medio predicho\n",
    "def rmse_cal(target_valid, predicted_valid):\n",
    "    # Calcula el mse\n",
    "    mse = mean_squared_error(target_valid, predicted_valid)\n",
    "    # Saca la raíz al mse\n",
    "    rmse = mse ** 0.5\n",
    "    \n",
    "    # calcula la media de la cantidad de barriles de las predicciones\n",
    "    product_mean = predicted_valid.mean()\n",
    "    \n",
    "    print(\"Volumen medio de reservas predicho:\", product_mean)\n",
    "    print(\"RMSE del modelo:\", rmse)\n",
    "    return rmse, product_mean"
   ]
  },
  {
   "cell_type": "code",
   "execution_count": 12,
   "metadata": {},
   "outputs": [
    {
     "name": "stdout",
     "output_type": "stream",
     "text": [
      "Volumen medio de reservas predicho: 92.59256778438035\n",
      "RMSE del modelo: 37.5794217150813\n",
      "Volumen medio de reservas predicho: 68.728546895446\n",
      "RMSE del modelo: 0.893099286775617\n",
      "Volumen medio de reservas predicho: 94.96504596800489\n",
      "RMSE del modelo: 40.02970873393434\n"
     ]
    }
   ],
   "source": [
    "# Llamada a la función\n",
    "rmse_1, product_mean_1 = rmse_cal(target_valid_1, predicted_valid_1)\n",
    "rmse_2, product_mean_2 = rmse_cal(target_valid_2, predicted_valid_2)\n",
    "rmse_3, product_mean_3 = rmse_cal(target_valid_3, predicted_valid_3)"
   ]
  },
  {
   "cell_type": "markdown",
   "metadata": {},
   "source": [
    "Sabemos que el volumen de reservas del pozo está expresado en miles de barriles\n",
    "\n",
    "Conclusiones:\n",
    "\n",
    "* La región 1 tiene un volumen promedio predicho de 92.59 mil barriles pero, en promedio, las predicciones erraron por 37.57 mil barriles.\n",
    "* La región 2 tiene un volumen promedio predicho de 68.72 mil barriles pero, en promedio, las predicciones erraron por 893 barriles.\n",
    "* La región 3 tiene un volumen promedio predicho de 94.96 mil barriles pero, en promedio, las predicciones erraron por 40.02 mil barriles.\n",
    "\n",
    "La región con el mejor modelo de regresión lineal es la región dos, sin embargo, también es la región con menos volumen promedio predicho."
   ]
  },
  {
   "cell_type": "markdown",
   "metadata": {},
   "source": [
    "## 3. Inversión de 100 millones en 200 pozos"
   ]
  },
  {
   "cell_type": "markdown",
   "metadata": {},
   "source": [
    "Con esa inversión, de media un pozo petrolífero debe producir al menos un valor de 500,000 dólares en unidades para evitar pérdidas, es decir, 111.1 barriles. Está cantidad se va a comparar con la cantidad media real de reservas en cada región con el fin de tener una idea de qué región se acerca más a está cantidad. Para esto se ocupará el `target_valid` de cada región."
   ]
  },
  {
   "cell_type": "code",
   "execution_count": 13,
   "metadata": {},
   "outputs": [
    {
     "name": "stdout",
     "output_type": "stream",
     "text": [
      "Cantidad media de reservas en la región 1: 92.07859674082927\n",
      "Cantidad media de reservas en la región 2: 68.72313602435997\n",
      "Cantidad media de reservas en la región 3: 94.88423280885438\n"
     ]
    }
   ],
   "source": [
    "# Media real de cada reserva\n",
    "target_mean_1 = target_valid_1.mean()\n",
    "target_mean_2 = target_valid_2.mean()\n",
    "target_mean_3 = target_valid_3.mean()\n",
    "\n",
    "# Imprimir los valores\n",
    "print('Cantidad media de reservas en la región 1:', target_mean_1)\n",
    "print('Cantidad media de reservas en la región 2:', target_mean_2)\n",
    "print('Cantidad media de reservas en la región 3:', target_mean_3)"
   ]
  },
  {
   "cell_type": "markdown",
   "metadata": {},
   "source": [
    "Conclusiones:\n",
    "\n",
    "La región que más se acerca es la región número 3, la cuál tiene una media real de 94.88 miles barriles de, sin embargo aún falta para los 111.1 miles de barriles necesarios.\n",
    "\n",
    "Este cálculo abarca los 100000 pozos que tiene cada región. Sólo necesitamos los 200 mejores de cada región y calcular la ganancia que tienen. A continuación se realizará el cálculo de dicho beneficio."
   ]
  },
  {
   "cell_type": "markdown",
   "metadata": {},
   "source": [
    "### 3.1. Calculo de la ganancia"
   ]
  },
  {
   "cell_type": "markdown",
   "metadata": {},
   "source": [
    "Cómo ya se mencionó, se van a calcular los beneficios de los mejores 200 pozos de cada región.\n",
    "\n",
    "Esto se logrará creando una función que primero oredene las predicciones desde la mayor cantidad de barriles a la menor, después se seleccionarán sólo los mejores 200 pozos cuya predicción de unidades sea más grande. De esos 200 mejores pozos se calculará el beneficio de cada uno. Para esto se sabe que el ingreso de una unidad de producto es de 4500 dólares, es decir, 4500 dólares por cada mil barriles.\n",
    "\n",
    "La función tomará por argumentos el `target` de cada región, las predicciones y la cantidad de pozos que recibirán la inversión. Y va a retornar la ganancia y las lista de predicciones de los mejores 200 pozos."
   ]
  },
  {
   "cell_type": "code",
   "execution_count": 14,
   "metadata": {},
   "outputs": [],
   "source": [
    "# Función para calcular las ganancias\n",
    "\n",
    "def revenue(target, predicted, count):\n",
    "    # Ordena los valores predichos en orden descendente\n",
    "    predicted_sorted = predicted.sort_values(ascending=False)\n",
    "    \n",
    "    # Se guardan las 200 mejores predicciones\n",
    "    top_200_predicted = predicted_sorted[:count]\n",
    "    \n",
    "    # Selecciona el volumne objetivo de los 200 pozos principales\n",
    "    selected = target.iloc[predicted_sorted.index][:count]\n",
    "    \n",
    "    # retorna la lista de las mejores 200 predicciones y el calculo de la ganancia potencial\n",
    "    return top_200_predicted, 4500 * selected.sum()  # Cada unidad tiene una ganancia de 4500 dólares\n",
    "    "
   ]
  },
  {
   "cell_type": "code",
   "execution_count": 15,
   "metadata": {},
   "outputs": [
    {
     "name": "stdout",
     "output_type": "stream",
     "text": [
      "La ganancia potencial de los mejores 200 pozos de la región 1 es: 133208260.43139851 dólares\n",
      "La ganancia potencial de los mejores 200 pozos de la región 2 es: 124150866.96681511 dólares\n",
      "La ganancia potencial de los mejores 200 pozos de la región 3 es: 127103499.63599832 dólares\n"
     ]
    }
   ],
   "source": [
    "count = 200  # Sólo 200 pozos\n",
    "\n",
    "# Llamar a la función y guarda la lista de los 200 mejores y la ganancia\n",
    "top_200_predicted_1, revenue_1 = revenue(target_valid_1, predicted_valid_1, count)\n",
    "top_200_predicted_2, revenue_2 = revenue(target_valid_2, predicted_valid_2, count)\n",
    "top_200_predicted_3, revenue_3 = revenue(target_valid_3, predicted_valid_3, count)\n",
    "\n",
    "# Imprime las ganancias potenciales de los mejores 200 pozos\n",
    "print('La ganancia potencial de los mejores 200 pozos de la región 1 es:', revenue_1, 'dólares')\n",
    "print('La ganancia potencial de los mejores 200 pozos de la región 2 es:', revenue_2, 'dólares')\n",
    "print('La ganancia potencial de los mejores 200 pozos de la región 3 es:', revenue_3, 'dólares')"
   ]
  },
  {
   "cell_type": "markdown",
   "metadata": {},
   "source": [
    "Conclusiones:\n",
    "\n",
    "La inversión será de 100 millones de dólares. La región 1 es la que tiene un mayor margen de ganancias con las unidades predichas. Ya que tiene una ganancia de 133 millones de dólares, 33 millones de dólares que sobrepasan la inversión inicial.\n",
    "\n",
    "La región 1 es la mejor opción para el desarrollo de pozos."
   ]
  },
  {
   "cell_type": "markdown",
   "metadata": {},
   "source": [
    "### 3.2. Riesgos y ganancias en cada región"
   ]
  },
  {
   "cell_type": "markdown",
   "metadata": {},
   "source": [
    "Para esto se utilizará la técnica de bootstraping. Con esta técnica se puede conseguir un valor deseado, en nuestro caso será el beneficio predicho, se crean submuestras del conjunto de datos. Posteriormente se calculará la media de cada subconjunto. De este modo podemos obtener varios valores y estimar su distribución."
   ]
  },
  {
   "cell_type": "markdown",
   "metadata": {},
   "source": [
    "Para lograr lo anterior se va a crear una función que tomará por parámetro las predicciones (`predicted`) de los mejores 200 pozos de cada región.\n",
    "\n",
    "En la función se va a declarar una lista vacía dónde se guardarán el cálculo de ganancias con las predicciones.\n",
    "\n",
    "Se va a crear un ciclo for para crear 1000 submuestras de las predicciones de los 200 mejores pozos. Serán esas submuestras las que serán utilizadas para calcular la ganancias solo de los 200 mejores pozos y se irán almacenando en la lista vacía y así tener un conjunto de valores.\n",
    "\n",
    "Además habrá un contador el cúal irá en aumento cuando la ganancia sea menor de 100 millones dolares para, posteriormente poder calcular el riesgo de perdidas"
   ]
  },
  {
   "cell_type": "code",
   "execution_count": 16,
   "metadata": {},
   "outputs": [],
   "source": [
    "# Función para el bootstrapping\n",
    "def calculate_bootstrapping(predicted):\n",
    "    # Se especifica el randomState\n",
    "    state = np.random.RandomState(12345)\n",
    "    # se crea la lista vacía\n",
    "    values = []\n",
    "    # Contador que aumentara cuando el retorno sea negativo\n",
    "    count = 0\n",
    "    \n",
    "    # Ciclo para crear 1000 muestras\n",
    "    for i in range(1000):\n",
    "        # Se crea una submuestra a partir de los conjuntos target y predicted\n",
    "        predicted_subsample = predicted.sample(frac=1, replace=True, random_state=state)\n",
    "        \n",
    "        # Calcula la ganancia de las predicciones \n",
    "        revenue = 4500 * predicted_subsample.sum()\n",
    "        \n",
    "        # Sentencia if para saber si la ganancia es menor que la inversión\n",
    "        if revenue < 100000000:\n",
    "            count += 1\n",
    "        \n",
    "        values.append(revenue)\n",
    "    \n",
    "    values = pd.Series(values)  # Por conveniencia se transforma en un Series\n",
    "    return values, count"
   ]
  },
  {
   "cell_type": "markdown",
   "metadata": {},
   "source": [
    "Ya se tiene la función que realiza el trabajo de bootstrappping, ahora tenemos que llamarla para cada región con su respectivo `targe_valid` y `predicted_valid`. y guardar sus ganancias en variables."
   ]
  },
  {
   "cell_type": "code",
   "execution_count": 17,
   "metadata": {},
   "outputs": [],
   "source": [
    "# Guarda los valores de las ganancias de cada submuestra\n",
    "revenues_1, count_1 = calculate_bootstrapping(top_200_predicted_1)\n",
    "revenues_2, count_2 = calculate_bootstrapping(top_200_predicted_2)\n",
    "revenues_3, count_3 = calculate_bootstrapping(top_200_predicted_3)"
   ]
  },
  {
   "cell_type": "markdown",
   "metadata": {},
   "source": [
    "#### 3.2.1. Beneficio promedio"
   ]
  },
  {
   "cell_type": "markdown",
   "metadata": {},
   "source": [
    "Se va a calcular el beneficio promedio de cada región"
   ]
  },
  {
   "cell_type": "code",
   "execution_count": 18,
   "metadata": {},
   "outputs": [
    {
     "name": "stdout",
     "output_type": "stream",
     "text": [
      "El beneficio promedio de la región 1 es de: 139944044.81195655 dólares\n",
      "El beneficio promedio de la región 2 es de: 124856341.33227411 dólares\n",
      "El beneficio promedio de la región 3 es de: 133203436.83229983 dólares\n"
     ]
    }
   ],
   "source": [
    "# Calculo del proemdio de los beneficios\n",
    "revenue_mean_1 = revenues_1.mean()\n",
    "revenue_mean_2 = revenues_2.mean()\n",
    "revenue_mean_3 = revenues_3.mean()\n",
    "\n",
    "# Imprime los valores\n",
    "print('El beneficio promedio de la región 1 es de:', revenue_mean_1, 'dólares')\n",
    "print('El beneficio promedio de la región 2 es de:', revenue_mean_2, 'dólares')\n",
    "print('El beneficio promedio de la región 3 es de:', revenue_mean_3, 'dólares')"
   ]
  },
  {
   "cell_type": "markdown",
   "metadata": {},
   "source": [
    "Conclusiones:\n",
    "\n",
    "La región 1 es la que presenta una ganancia mayor, con 139 millones de dólares. Esto deja un margen de 39 millones después de la inversión inicial."
   ]
  },
  {
   "cell_type": "markdown",
   "metadata": {},
   "source": [
    "#### 3.2.2. Intervalo de confianza del 95%"
   ]
  },
  {
   "cell_type": "markdown",
   "metadata": {},
   "source": [
    "Se va a calcular el intervalo de confianza del 95%, para esto debemos tomar el 2.5% tanto del extremo inferior como del extremo superior."
   ]
  },
  {
   "cell_type": "code",
   "execution_count": 19,
   "metadata": {},
   "outputs": [
    {
     "name": "stdout",
     "output_type": "stream",
     "text": [
      "El intervalo del 95% de la region 1 es de entre 139104578.9235707 dólares y 140792451.05654183 dólares\n",
      "El intervalo del 95% de la region 2 es de entre 124818499.87004468 dólares y 133937189.00814931 dólares\n",
      "El intervalo del 95% de la region 3 es de entre 132503826.13157943 dólares y 133937189.00814931 dólares\n"
     ]
    }
   ],
   "source": [
    "# Cuantil del 2.5%\n",
    "lower_1 = revenues_1.quantile(0.025)\n",
    "lower_2 = revenues_2.quantile(0.025)\n",
    "lower_3 = revenues_3.quantile(0.025)\n",
    "\n",
    "# Cuantil del 97.5%\n",
    "upper_1 = revenues_1.quantile(0.975)\n",
    "upper_2 = revenues_3.quantile(0.975)\n",
    "upper_3 = revenues_3.quantile(0.975)\n",
    "\n",
    "# Impresion del intervalo\n",
    "print(f'El intervalo del 95% de la region 1 es de entre {lower_1} dólares y {upper_1} dólares')\n",
    "print(f'El intervalo del 95% de la region 2 es de entre {lower_2} dólares y {upper_2} dólares')\n",
    "print(f'El intervalo del 95% de la region 3 es de entre {lower_3} dólares y {upper_3} dólares')"
   ]
  },
  {
   "cell_type": "markdown",
   "metadata": {},
   "source": [
    "Conclusiones:\n",
    "\n",
    "Podemos decir con un 95 % de probabilidad que la región 1, tendrá ganancias de entre 139 millones y 140 millones de dólares. Esta es la mejor región para invertir."
   ]
  },
  {
   "cell_type": "markdown",
   "metadata": {},
   "source": [
    "#### 3.2.3. Riesgo de pérdidas"
   ]
  },
  {
   "cell_type": "markdown",
   "metadata": {},
   "source": [
    "Con la variable `count` que está guardada para región podemos calcular el riesgo de pérdidas. Esta variable tiene guardado la cantidad de retornos negativos, esto se analizará contra el total de muestras de bootstrap (1000)."
   ]
  },
  {
   "cell_type": "code",
   "execution_count": 20,
   "metadata": {},
   "outputs": [
    {
     "name": "stdout",
     "output_type": "stream",
     "text": [
      "El riesgo de pérdida en la región 1 es de: 0.0\n",
      "El riesgo de pérdida en la región 2 es de: 0.0\n",
      "El riesgo de pérdida en la región 3 es de: 0.0\n"
     ]
    }
   ],
   "source": [
    "# Calculo del riesgo de pérdida en las tres regiones\n",
    "risk_1 = (count_1 * 100) / 1000\n",
    "risk_2 = (count_1 * 100) / 1000\n",
    "risk_3 = (count_1 * 100) / 1000\n",
    "\n",
    "# Imprime el riesgo de cada región\n",
    "print('El riesgo de pérdida en la región 1 es de:', risk_1)\n",
    "print('El riesgo de pérdida en la región 2 es de:', risk_2)\n",
    "print('El riesgo de pérdida en la región 3 es de:', risk_3)"
   ]
  },
  {
   "cell_type": "markdown",
   "metadata": {},
   "source": [
    "Conclusiones:\n",
    "\n",
    "Con nuestras predicciones para los 200 mejores pozos, se calcula que el riesgo de pérdida es de 0%, por lo que se puede invertir en cualquiera de las tres regiones"
   ]
  },
  {
   "cell_type": "markdown",
   "metadata": {},
   "source": [
    "### 3.3. Conclusiones\n"
   ]
  },
  {
   "cell_type": "markdown",
   "metadata": {},
   "source": [
    "Haciendo un cálculo de ganancia de la predicciones que salieron del modelo en cada región, la **región 1** es la que tiene un margen mayor de ganancias."
   ]
  },
  {
   "cell_type": "markdown",
   "metadata": {},
   "source": [
    "Con el método de bootstrapping, la **región 1** es la región que tuvo mayor beneficio promedio (139 milllones de dólares), la que tiene el intervalo de confianza de 95% más grande (de 139 a 140 millones de dólares) y no hay riesgo de pérdida. Por lo que la región 1 es la mejor para onvertir los 100 millones de dólares"
   ]
  }
 ],
 "metadata": {
  "kernelspec": {
   "display_name": "Python 3 (ipykernel)",
   "language": "python",
   "name": "python3"
  },
  "language_info": {
   "codemirror_mode": {
    "name": "ipython",
    "version": 3
   },
   "file_extension": ".py",
   "mimetype": "text/x-python",
   "name": "python",
   "nbconvert_exporter": "python",
   "pygments_lexer": "ipython3",
   "version": "3.12.0"
  },
  "toc": {
   "base_numbering": 1,
   "nav_menu": {},
   "number_sections": true,
   "sideBar": true,
   "skip_h1_title": true,
   "title_cell": "Table of Contents",
   "title_sidebar": "Contents",
   "toc_cell": false,
   "toc_position": {},
   "toc_section_display": true,
   "toc_window_display": false
  }
 },
 "nbformat": 4,
 "nbformat_minor": 2
}
